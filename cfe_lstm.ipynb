{
 "cells": [
  {
   "cell_type": "code",
   "execution_count": 1,
   "metadata": {},
   "outputs": [],
   "source": [
    "import numpy as np\n",
    "import pandas as pd\n",
    "import torch\n",
    "from torch import nn\n",
    "import pickle\n",
    "import time\n",
    "import json\n",
    "import matplotlib.pyplot as plt\n",
    "\n",
    "import os\n",
    "\n",
    "sys.path.append(os.path.realpath('./lstm/'))\n",
    "import data_tools\n",
    "import lstm\n",
    "\n",
    "sys.path.append(os.path.realpath('./cfe/'))\n",
    "import cfe"
   ]
  },
  {
   "cell_type": "code",
   "execution_count": 2,
   "metadata": {},
   "outputs": [],
   "source": [
    "cfe58 = cfe.CFE('./cfe/cat_58_config_cfe2.json')"
   ]
  },
  {
   "cell_type": "code",
   "execution_count": 3,
   "metadata": {},
   "outputs": [],
   "source": [
    "lstm58 = lstm.bmi_LSTM()\n",
    "lstm58.read_cfg_file('./lstm/lstm-info-cat58.cfg')"
   ]
  },
  {
   "cell_type": "code",
   "execution_count": 4,
   "metadata": {},
   "outputs": [],
   "source": [
    "lstm58.initialize()\n",
    "cfe58.initialize()"
   ]
  },
  {
   "cell_type": "code",
   "execution_count": 9,
   "metadata": {},
   "outputs": [],
   "source": [
    "lstm58.atosphere_water__time_integral_of_precipitation_mass_flux = 0.1\n",
    "cfe58.timestep_rainfall_input_m = 0.01"
   ]
  },
  {
   "cell_type": "code",
   "execution_count": 10,
   "metadata": {},
   "outputs": [
    {
     "name": "stdout",
     "output_type": "stream",
     "text": [
      "updating for t:  1773\n",
      "start_this_seq 1772\n",
      "for time: 1774 lstm output: 20.112555098483824\n"
     ]
    }
   ],
   "source": [
    "lstm58.update()\n",
    "cfe58.update()"
   ]
  },
  {
   "cell_type": "code",
   "execution_count": 11,
   "metadata": {},
   "outputs": [
    {
     "data": {
      "text/plain": [
       "0.6609912397249501"
      ]
     },
     "execution_count": 11,
     "metadata": {},
     "output_type": "execute_result"
    }
   ],
   "source": [
    "cfe58.total_discharge"
   ]
  },
  {
   "cell_type": "code",
   "execution_count": null,
   "metadata": {},
   "outputs": [],
   "source": []
  },
  {
   "cell_type": "code",
   "execution_count": 18,
   "metadata": {},
   "outputs": [
    {
     "name": "stdout",
     "output_type": "stream",
     "text": [
      "updating for t:  1786\n",
      "start_this_seq 1785\n",
      "for time: 1787 lstm output: 8.139111173309121\n",
      "updating for t:  1787\n",
      "start_this_seq 1786\n",
      "for time: 1788 lstm output: 8.249624701507917\n",
      "updating for t:  1788\n",
      "start_this_seq 1787\n",
      "for time: 1789 lstm output: 9.7116053337834\n",
      "updating for t:  1789\n",
      "start_this_seq 1788\n",
      "for time: 1790 lstm output: 8.805893954798673\n",
      "updating for t:  1790\n",
      "start_this_seq 1789\n",
      "for time: 1791 lstm output: 9.067013846668813\n",
      "updating for t:  1791\n",
      "start_this_seq 1790\n",
      "for time: 1792 lstm output: 9.093198985890291\n"
     ]
    }
   ],
   "source": [
    "cfe_out = []\n",
    "lstm_out = []\n",
    "for precip in [0.1,0.2,.03,.05,0.3,.05]:\n",
    "    lstm58.atosphere_water__time_integral_of_precipitation_mass_flux = precip * 1000\n",
    "    cfe58.timestep_rainfall_input_m = precip\n",
    "    lstm58.update()\n",
    "    cfe58.update()\n",
    "    cfe_out.append(cfe58.total_discharge)\n",
    "    lstm_out.append(lstm58.streamflow)"
   ]
  },
  {
   "cell_type": "code",
   "execution_count": 19,
   "metadata": {},
   "outputs": [
    {
     "data": {
      "text/plain": [
       "[<matplotlib.lines.Line2D at 0x7f04e63f9350>]"
      ]
     },
     "execution_count": 19,
     "metadata": {},
     "output_type": "execute_result"
    },
    {
     "data": {
      "image/png": "[encoded data removed]",
      "text/plain": [
       "<Figure size 432x288 with 1 Axes>"
      ]
     },
     "metadata": {
      "needs_background": "light"
     },
     "output_type": "display_data"
    }
   ],
   "source": [
    "plt.plot(cfe_out, label=\"cfe\")\n",
    "plt.plot(lstm_out, label=\"lstm\")"
   ]
  },
  {
   "cell_type": "code",
   "execution_count": null,
   "metadata": {},
   "outputs": [],
   "source": []
  }
 ],
 "metadata": {
  "kernelspec": {
   "display_name": "Python [conda env:nh-cpu-xr14]",
   "language": "python",
   "name": "conda-env-nh-cpu-xr14-py"
  },
  "language_info": {
   "codemirror_mode": {
    "name": "ipython",
    "version": 3
   },
   "file_extension": ".py",
   "mimetype": "text/x-python",
   "name": "python",
   "nbconvert_exporter": "python",
   "pygments_lexer": "ipython3",
   "version": "3.7.10"
  }
 },
 "nbformat": 4,
 "nbformat_minor": 4
}
